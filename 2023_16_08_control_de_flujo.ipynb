{
  "cells": [
    {
      "cell_type": "markdown",
      "metadata": {
        "id": "5wz_vMoDCFvi"
      },
      "source": [
        "Control de flujo\n",
        "================\n",
        "\n",
        "**Date:** 2023-16-08\n",
        "\n"
      ]
    },
    {
      "cell_type": "markdown",
      "metadata": {
        "id": "TTNDNrPLCFvm"
      },
      "source": [
        "## Control de flujo\n",
        "\n"
      ]
    },
    {
      "cell_type": "markdown",
      "metadata": {
        "id": "BrafArfOCFvo"
      },
      "source": [
        "### `if`\n",
        "\n"
      ]
    },
    {
      "cell_type": "code",
      "execution_count": 1,
      "metadata": {
        "colab": {
          "base_uri": "https://localhost:8080/"
        },
        "id": "Y4zYX45fCFvp",
        "outputId": "1e5f3e63-657a-4d03-ff26-38d4ca4f7bc7"
      },
      "outputs": [
        {
          "output_type": "execute_result",
          "data": {
            "text/plain": [
              "['Arturo', 'Bigvai', 'Marcos', 'Daira', 'Isabel', 'Froylan', 'Yei']"
            ]
          },
          "metadata": {},
          "execution_count": 1
        }
      ],
      "source": [
        "inscritos = [\"Arturo\", \"Bigvai\", \"Marcos\", \"Daira\", \"Isabel\"]\n",
        "oyentes = [\"Froylan\", \"Yei\"]\n",
        "estudiantes = inscritos + oyentes\n",
        "estudiantes"
      ]
    },
    {
      "cell_type": "code",
      "execution_count": 2,
      "metadata": {
        "colab": {
          "base_uri": "https://localhost:8080/"
        },
        "id": "Y_mQb_HjCFvq",
        "outputId": "fbd0ac73-e1e2-48fc-9cdb-7e9508768dd9"
      },
      "outputs": [
        {
          "output_type": "stream",
          "name": "stdout",
          "text": [
            "Son muchos estudiantes\n"
          ]
        }
      ],
      "source": [
        "if len(estudiantes) > 5:\n",
        "    print(\"Son muchos estudiantes\")"
      ]
    },
    {
      "cell_type": "code",
      "execution_count": 3,
      "metadata": {
        "colab": {
          "base_uri": "https://localhost:8080/"
        },
        "id": "SJqC8yUFCFvq",
        "outputId": "d79f3906-1d5a-475a-f2df-dbc01320c2a5"
      },
      "outputs": [
        {
          "output_type": "stream",
          "name": "stdout",
          "text": [
            "Son pocos estudiantes. Ojalá entren oyentes\n"
          ]
        }
      ],
      "source": [
        "if len(estudiantes) > 10:\n",
        "    print(\"Son muchos estudiantes\")\n",
        "else:\n",
        "    print(\"Son pocos estudiantes\", end=\". \")\n",
        "    print(\"Ojalá entren oyentes\")"
      ]
    },
    {
      "cell_type": "code",
      "execution_count": 4,
      "metadata": {
        "colab": {
          "base_uri": "https://localhost:8080/"
        },
        "id": "uYdmJq9HCFvr",
        "outputId": "2fe2b513-7d50-48c2-b562-c488a89a7aa6"
      },
      "outputs": [
        {
          "output_type": "stream",
          "name": "stdout",
          "text": [
            "Son cuando mucho cinco estudiantes\n"
          ]
        }
      ],
      "source": [
        "if len(inscritos) <= 5:\n",
        "    print(\"Son cuando mucho cinco estudiantes\")\n",
        "elif len(inscritos) == 6:\n",
        "    print(\"Son seis estudiantes\")\n",
        "else:\n",
        "    print(\"Son muchos estudiantes\", end=\". \")\n",
        "    print(\"Ojalá no entren oyentes\")"
      ]
    },
    {
      "cell_type": "markdown",
      "metadata": {
        "id": "QhhlxiMsCFvr"
      },
      "source": [
        "### `for`\n",
        "\n"
      ]
    },
    {
      "cell_type": "code",
      "execution_count": 5,
      "metadata": {
        "colab": {
          "base_uri": "https://localhost:8080/"
        },
        "id": "M5XWa4BCCFvt",
        "outputId": "4958e24d-b1ec-473c-b60e-e4b4067dc4a0"
      },
      "outputs": [
        {
          "output_type": "stream",
          "name": "stdout",
          "text": [
            "Hola Arturo ¿Cómo estás?\n",
            "Hola Bigvai ¿Cómo estás?\n",
            "Hola Marcos ¿Cómo estás?\n",
            "Hola Daira ¿Cómo estás?\n",
            "Hola Isabel ¿Cómo estás?\n",
            "Hola Froylan ¿Cómo estás?\n",
            "Hola Yei ¿Cómo estás?\n"
          ]
        }
      ],
      "source": [
        "for estudiante in estudiantes:\n",
        "    print(\"Hola\", estudiante, \"¿Cómo estás?\")"
      ]
    },
    {
      "cell_type": "code",
      "execution_count": 6,
      "metadata": {
        "colab": {
          "base_uri": "https://localhost:8080/"
        },
        "id": "jCq_8GR2CFvt",
        "outputId": "2f8008ce-6f51-4011-b486-5aabbec80881"
      },
      "outputs": [
        {
          "output_type": "stream",
          "name": "stdout",
          "text": [
            "Hola Arturo\n",
            "Hola Bigvai\n",
            "Hola Marcos\n",
            "Hola Daira\n",
            "Hola Isabel\n",
            "Hola Froylan\n",
            "Hola Yei\n"
          ]
        }
      ],
      "source": [
        "for i in range(len(estudiantes)):\n",
        "    print(\"Hola\", estudiantes[i])"
      ]
    },
    {
      "cell_type": "code",
      "execution_count": 19,
      "metadata": {
        "colab": {
          "base_uri": "https://localhost:8080/"
        },
        "id": "bQQn4FrjCFvu",
        "outputId": "bd8a4400-123b-4b53-b87f-f11bb942b2e2"
      },
      "outputs": [
        {
          "output_type": "stream",
          "name": "stdout",
          "text": [
            "3\n",
            "2\n",
            "1\n",
            "0\n",
            "Booom\n"
          ]
        }
      ],
      "source": [
        "for j in range(3, -1, -1):\n",
        "    print(j)\n",
        "    if j == 0:\n",
        "        print(\"Booom\")"
      ]
    },
    {
      "cell_type": "markdown",
      "source": [
        "Esta sintaxis corresponder a: numero en el que se empieza, numero en que se termina, pasos que se dan"
      ],
      "metadata": {
        "id": "Qp1gWb7lH3SY"
      }
    },
    {
      "cell_type": "code",
      "source": [
        "list(range(5, -3, -2))\n"
      ],
      "metadata": {
        "colab": {
          "base_uri": "https://localhost:8080/"
        },
        "id": "KWnY3TVUG93h",
        "outputId": "fbe38bb5-c49d-446c-ff87-9ac32d163a50"
      },
      "execution_count": 23,
      "outputs": [
        {
          "output_type": "execute_result",
          "data": {
            "text/plain": [
              "[5, 3, 1, -1]"
            ]
          },
          "metadata": {},
          "execution_count": 23
        }
      ]
    },
    {
      "cell_type": "code",
      "execution_count": 8,
      "metadata": {
        "colab": {
          "base_uri": "https://localhost:8080/"
        },
        "id": "2Qj2eJu4CFvu",
        "outputId": "79aaf194-eedd-4bda-bf6f-82c2d6b6df28"
      },
      "outputs": [
        {
          "output_type": "execute_result",
          "data": {
            "text/plain": [
              "range(0, 7897987978979779878979797987987979779797979)"
            ]
          },
          "metadata": {},
          "execution_count": 8
        }
      ],
      "source": [
        "range(7897987978979779878979797987987979779797979)"
      ]
    },
    {
      "cell_type": "markdown",
      "metadata": {
        "id": "FQ1x5AhUCFvv"
      },
      "source": [
        "La suma de todos los números del 1 al 100.\n",
        "\n"
      ]
    },
    {
      "cell_type": "code",
      "execution_count": 9,
      "metadata": {
        "colab": {
          "base_uri": "https://localhost:8080/"
        },
        "id": "XekGWRbCCFvv",
        "outputId": "e063138c-8d20-47d4-b862-f191b064297e"
      },
      "outputs": [
        {
          "output_type": "execute_result",
          "data": {
            "text/plain": [
              "5050"
            ]
          },
          "metadata": {},
          "execution_count": 9
        }
      ],
      "source": [
        "sum(range(101))"
      ]
    },
    {
      "cell_type": "markdown",
      "metadata": {
        "id": "fnEaK53vCFvv"
      },
      "source": [
        "### break, continue y else en ciclos for\n",
        "\n"
      ]
    },
    {
      "cell_type": "markdown",
      "metadata": {
        "id": "9EeLUb_uCFvv"
      },
      "source": [
        "#### break\n",
        "\n"
      ]
    },
    {
      "cell_type": "markdown",
      "metadata": {
        "id": "fLfQHZK5CFvw"
      },
      "source": [
        "`break` sirve para interrumpir un ciclo for.\n",
        "\n"
      ]
    },
    {
      "cell_type": "code",
      "execution_count": 13,
      "metadata": {
        "colab": {
          "base_uri": "https://localhost:8080/"
        },
        "id": "tp4ghxKSCFvw",
        "outputId": "0bba6cd6-5686-42de-bea0-912224189f70"
      },
      "outputs": [
        {
          "output_type": "stream",
          "name": "stdout",
          "text": [
            "Hola Arturo ¿Cómo estás?\n",
            "Hola Bigvai ¿Cómo estás?\n",
            "Hola Marcos ¿Cómo estás?\n",
            "Hola Daira ¿Cómo estás?\n",
            "Hola Isabel ¿Cómo estás?\n",
            "Hola Froylan ¿Cómo estás?\n",
            "Ya saludé a los inscritos\n"
          ]
        }
      ],
      "source": [
        "for estudiante in estudiantes:\n",
        "    print(\"Hola\", estudiante, \"¿Cómo estás?\")\n",
        "    if estudiante == \"Froylan\":\n",
        "        break\n",
        "\n",
        "print(\"Ya saludé a los inscritos\")"
      ]
    },
    {
      "cell_type": "markdown",
      "metadata": {
        "id": "5QgcZlarCFvw"
      },
      "source": [
        "#### else en un ciclo for\n",
        "\n"
      ]
    },
    {
      "cell_type": "markdown",
      "metadata": {
        "id": "Ag4NTATICFvw"
      },
      "source": [
        "La cláusula `else` en un ciclo `for` se ejecuta cuando el ciclo `for` termina de manera \"natural\", sin haber pasado por una cláusula `break`.\n",
        "\n"
      ]
    },
    {
      "cell_type": "code",
      "execution_count": 25,
      "metadata": {
        "colab": {
          "base_uri": "https://localhost:8080/"
        },
        "id": "tIhLCpvaCFvx",
        "outputId": "a0920c0a-fd1b-41ec-cd75-76a386fec053"
      },
      "outputs": [
        {
          "output_type": "stream",
          "name": "stdout",
          "text": [
            "2 es un número primo\n",
            "3 es un número primo\n",
            "4 es igual a 2 * 2\n",
            "5 es un número primo\n",
            "6 es igual a 2 * 3\n",
            "7 es un número primo\n",
            "8 es igual a 2 * 4\n",
            "9 es igual a 3 * 3\n"
          ]
        }
      ],
      "source": [
        "for n in range(2, 10):\n",
        "    for x in range(2, n):\n",
        "        if n % x == 0:\n",
        "            print(n, 'es igual a', x, '*', n//x)\n",
        "            break\n",
        "    else:\n",
        "        # se terminó de checar posibles divisores sin encontrar uno\n",
        "        print(n, 'es un número primo')"
      ]
    },
    {
      "cell_type": "markdown",
      "metadata": {
        "id": "yArtm-A4CFvx"
      },
      "source": [
        "#### continue\n",
        "\n"
      ]
    },
    {
      "cell_type": "code",
      "execution_count": 15,
      "metadata": {
        "colab": {
          "base_uri": "https://localhost:8080/"
        },
        "id": "tXJobLwICFvy",
        "outputId": "3aea4bb6-074c-401a-f706-715a5b1e319a"
      },
      "outputs": [
        {
          "output_type": "stream",
          "name": "stdout",
          "text": [
            "Hola Arturo ¿Cómo estás?\n",
            "¿Qué materias estás llevando, Arturo ?\n",
            "Hola Bigvai ¿Cómo estás?\n",
            "¿Qué materias estás llevando, Bigvai ?\n",
            "Hola Marcos ¿Cómo estás?\n",
            "¿Qué materias estás llevando, Marcos ?\n",
            "Hola Daira ¿Cómo estás?\n",
            "¿Qué materias estás llevando, Daira ?\n",
            "Hola Isabel ¿Cómo estás?\n",
            "¿Qué materias estás llevando, Isabel ?\n",
            "Hola Froylan ¿Cómo estás?\n",
            "¿Qué materias estás llevando, Froylan ?\n",
            "Hola Yei ¿Cómo estás?\n",
            "¿Qué materias estás llevando, Yei ?\n"
          ]
        }
      ],
      "source": [
        "for estudiante in estudiantes:\n",
        "    print(\"Hola\", estudiante, \"¿Cómo estás?\")\n",
        "    if estudiante in [\"Uriel\", \"Ruth\"]:\n",
        "        break\n",
        "    print(\"¿Qué materias estás llevando,\", estudiante,\"?\")"
      ]
    },
    {
      "cell_type": "markdown",
      "metadata": {
        "id": "hrCIbn05CFvy"
      },
      "source": [
        "#### pass\n",
        "\n"
      ]
    },
    {
      "cell_type": "markdown",
      "metadata": {
        "id": "N5chVTX4CFvy"
      },
      "source": [
        "La claúsula `pass` no hace nada, pero puede servir para que un programa incompleto sea sintácticamente correcto.\n",
        "\n"
      ]
    },
    {
      "cell_type": "code",
      "execution_count": 16,
      "metadata": {
        "colab": {
          "base_uri": "https://localhost:8080/"
        },
        "id": "6xkya9pyCFvz",
        "outputId": "0f007396-8891-41a3-8892-68989a3e710f"
      },
      "outputs": [
        {
          "output_type": "stream",
          "name": "stdout",
          "text": [
            "Hola Arturo ¿Cómo estás?\n",
            "Hola Bigvai ¿Cómo estás?\n",
            "Hola Marcos ¿Cómo estás?\n",
            "Hola Daira ¿Cómo estás?\n",
            "Hola Isabel ¿Cómo estás?\n",
            "Hola Froylan ¿Cómo estás?\n",
            "Hola Yei ¿Cómo estás?\n"
          ]
        }
      ],
      "source": [
        "for estudiante in estudiantes:\n",
        "    print(\"Hola\", estudiante, \"¿Cómo estás?\")\n",
        "    if estudiante in [\"Uriel\", \"Ruth\"]:\n",
        "        pass"
      ]
    },
    {
      "cell_type": "code",
      "execution_count": 17,
      "metadata": {
        "colab": {
          "base_uri": "https://localhost:8080/"
        },
        "id": "Rrmr3FhKCFvz",
        "outputId": "df8e3238-853a-4df5-80bf-460c674d7781"
      },
      "outputs": [
        {
          "output_type": "stream",
          "name": "stdout",
          "text": [
            "Hola Arturo ¿Cómo estás?\n",
            "Hola Bigvai ¿Cómo estás?\n",
            "Hola Marcos ¿Cómo estás?\n",
            "Hola Daira ¿Cómo estás?\n",
            "Hola Isabel ¿Cómo estás?\n",
            "Hola Froylan ¿Cómo estás?\n",
            "Hola Yei ¿Cómo estás?\n"
          ]
        }
      ],
      "source": [
        "for estudiante in estudiantes:\n",
        "    print(\"Hola\", estudiante, \"¿Cómo estás?\")\n",
        "    if estudiante in [\"Uriel\", \"Ruth\"]:\n",
        "        print(\"Hola\", estudiante, \"¿Eres oyente?\")"
      ]
    }
  ],
  "metadata": {
    "kernelspec": {
      "display_name": "Python 3",
      "language": "python",
      "name": "python3"
    },
    "language_info": {
      "codemirror_mode": {
        "name": "ipython",
        "version": 3
      },
      "file_extension": ".py",
      "mimetype": "text/x-python",
      "name": "python",
      "nbconvert_exporter": "python",
      "pygments_lexer": "ipython3",
      "version": "3.9.2"
    },
    "org": null,
    "colab": {
      "provenance": []
    }
  },
  "nbformat": 4,
  "nbformat_minor": 0
}