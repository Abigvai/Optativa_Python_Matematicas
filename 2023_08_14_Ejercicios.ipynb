{
  "nbformat": 4,
  "nbformat_minor": 0,
  "metadata": {
    "colab": {
      "provenance": []
    },
    "kernelspec": {
      "name": "python3",
      "display_name": "Python 3"
    },
    "language_info": {
      "name": "python"
    }
  },
  "cells": [
    {
      "cell_type": "markdown",
      "source": [
        "**Ejercicio**\n",
        "\n",
        " Encuentra el numero mas pequeño de modo que al mudulo del numero complejo (3+4j) es mayor igual a 100"
      ],
      "metadata": {
        "id": "L37E4hitZpko"
      }
    },
    {
      "cell_type": "code",
      "execution_count": null,
      "metadata": {
        "id": "X5boLETXKTFw"
      },
      "outputs": [],
      "source": [
        "import cmath\n"
      ]
    },
    {
      "cell_type": "code",
      "source": [
        "complejo = 3 + 4j\n",
        "modulo = 100\n",
        "exponent = 1"
      ],
      "metadata": {
        "id": "pEmpYtrRKZ0B"
      },
      "execution_count": null,
      "outputs": []
    },
    {
      "cell_type": "code",
      "source": [
        "while abs(complejo ** exponent) <= modulo:\n",
        "    exponent += 1"
      ],
      "metadata": {
        "id": "bxFLEZppKesK"
      },
      "execution_count": null,
      "outputs": []
    },
    {
      "cell_type": "code",
      "source": [
        "print(\"El exponente más pequeño es:\", exponent)"
      ],
      "metadata": {
        "colab": {
          "base_uri": "https://localhost:8080/"
        },
        "id": "jOjeKnq6Khk_",
        "outputId": "eac37b9c-9e5d-42ef-ed7e-d65a9e12027d"
      },
      "execution_count": null,
      "outputs": [
        {
          "output_type": "stream",
          "name": "stdout",
          "text": [
            "El exponente más pequeño es: 3\n"
          ]
        }
      ]
    },
    {
      "cell_type": "markdown",
      "source": [
        "**Ejercicio**\n",
        "\n",
        "Imprime los numeros de Fibonacci de manera vertical\n",
        "\n",
        "\n"
      ],
      "metadata": {
        "id": "2g-4trola9EH"
      }
    },
    {
      "cell_type": "code",
      "source": [
        "a , b = 0 , 1\n"
      ],
      "metadata": {
        "id": "ZfUOlCqKZjQ4"
      },
      "execution_count": null,
      "outputs": []
    },
    {
      "cell_type": "code",
      "source": [
        "while a < 100 :\n",
        "    print( a, \", \" )\n",
        "    a , b = b , a + b\n"
      ],
      "metadata": {
        "id": "XuqwIWePZlNI"
      },
      "execution_count": null,
      "outputs": []
    }
  ]
}